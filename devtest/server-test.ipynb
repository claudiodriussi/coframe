{
 "cells": [
  {
   "cell_type": "markdown",
   "metadata": {},
   "source": [
    "# Testing Coframe API with Flask Server\n",
    "\n",
    "This notebook demonstrates how to interact with the Coframe API through the Flask server interface."
   ]
  },
  {
   "cell_type": "code",
   "execution_count": null,
   "metadata": {},
   "outputs": [],
   "source": [
    "import requests\n",
    "import json\n",
    "import pandas as pd\n",
    "from IPython.display import display, HTML\n",
    "\n",
    "# Base URL for API\n",
    "BASE_URL = 'http://localhost:5000/api'\n",
    "\n",
    "# Helper function to pretty print JSON\n",
    "def pretty_print(obj):\n",
    "    if isinstance(obj, dict) or isinstance(obj, list):\n",
    "        display(HTML(f\"<pre>{json.dumps(obj, indent=2)}</pre>\"))\n",
    "    else:\n",
    "        print(obj)"
   ]
  },
  {
   "cell_type": "markdown",
   "metadata": {},
   "source": [
    "## Authentication\n",
    "\n",
    "First, let's authenticate with the API to get a token."
   ]
  },
  {
   "cell_type": "code",
   "execution_count": null,
   "metadata": {},
   "outputs": [],
   "source": [
    "def login(username, password):\n",
    "    response = requests.post(f\"{BASE_URL}/auth/login\", json={\n",
    "        'username': username,\n",
    "        'password': password\n",
    "    })\n",
    "\n",
    "    if response.status_code == 200:\n",
    "        return response.json()\n",
    "    else:\n",
    "        print(f\"Login failed: {response.status_code}\")\n",
    "        return response.json()\n",
    "\n",
    "# Login with credentials\n",
    "auth_result = login('mrossi', 'hashed_password_here')\n",
    "pretty_print(auth_result)"
   ]
  },
  {
   "cell_type": "code",
   "execution_count": null,
   "metadata": {},
   "outputs": [],
   "source": [
    "# Extract token from auth_result\n",
    "token = auth_result.get('token')\n",
    "\n",
    "# Setup headers for authenticated requests\n",
    "headers = {\n",
    "    'Authorization': f'Bearer {token}',\n",
    "    'Content-Type': 'application/json'\n",
    "}"
   ]
  },
  {
   "cell_type": "markdown",
   "metadata": {},
   "source": [
    "## Basic CRUD Operations\n",
    "\n",
    "Now let's test some basic CRUD operations on the database."
   ]
  },
  {
   "cell_type": "markdown",
   "metadata": {},
   "source": [
    "### Retrieve All Users"
   ]
  },
  {
   "cell_type": "code",
   "execution_count": null,
   "metadata": {},
   "outputs": [],
   "source": [
    "def get_all(table, params=None):\n",
    "    response = requests.get(f\"{BASE_URL}/db/{table}\", headers=headers, params=params)\n",
    "    return response.json()\n",
    "\n",
    "# Get all users\n",
    "users = get_all('User')\n",
    "pretty_print(users)"
   ]
  },
  {
   "cell_type": "markdown",
   "metadata": {},
   "source": [
    "### Get User by ID"
   ]
  },
  {
   "cell_type": "code",
   "execution_count": null,
   "metadata": {},
   "outputs": [],
   "source": [
    "def get_one(table, id):\n",
    "    response = requests.get(f\"{BASE_URL}/db/{table}/{id}\", headers=headers)\n",
    "    return response.json()\n",
    "\n",
    "# Get user with ID=1\n",
    "user = get_one('User', 1)\n",
    "pretty_print(user)"
   ]
  },
  {
   "cell_type": "markdown",
   "metadata": {},
   "source": [
    "### Create a New Book"
   ]
  },
  {
   "cell_type": "code",
   "execution_count": null,
   "metadata": {},
   "outputs": [],
   "source": [
    "def create(table, data):\n",
    "    response = requests.post(f\"{BASE_URL}/db/{table}\", headers=headers, json=data)\n",
    "    return response.json()\n",
    "\n",
    "# Create a new book\n",
    "import datetime\n",
    "\n",
    "new_book = {\n",
    "    'title': 'Python for Data Science',\n",
    "    'isbn': '9781234567890',\n",
    "    'publication_date': datetime.date.today().isoformat(),\n",
    "    'price': 29.99,\n",
    "    'status': 'A'\n",
    "}\n",
    "\n",
    "created_book = create('Book', new_book)\n",
    "pretty_print(created_book)"
   ]
  },
  {
   "cell_type": "markdown",
   "metadata": {},
   "source": [
    "### Update the Book"
   ]
  },
  {
   "cell_type": "code",
   "execution_count": null,
   "metadata": {},
   "outputs": [],
   "source": [
    "def update(table, id, data):\n",
    "    response = requests.put(f\"{BASE_URL}/db/{table}/{id}\", headers=headers, json=data)\n",
    "    return response.json()\n",
    "\n",
    "# Update the book's price\n",
    "if 'data' in created_book and 'id' in created_book['data']:\n",
    "    book_id = created_book['data']['id']\n",
    "    updated_book = update('Book', book_id, {'price': 34.99})\n",
    "    pretty_print(updated_book)"
   ]
  },
  {
   "cell_type": "markdown",
   "metadata": {},
   "source": [
    "### Delete the Book"
   ]
  },
  {
   "cell_type": "code",
   "execution_count": null,
   "metadata": {},
   "outputs": [],
   "source": [
    "def delete(table, id):\n",
    "    response = requests.delete(f\"{BASE_URL}/db/{table}/{id}\", headers=headers)\n",
    "    return response.json()\n",
    "\n",
    "# Delete the book\n",
    "if 'data' in created_book and 'id' in created_book['data']:\n",
    "    book_id = created_book['data']['id']\n",
    "    deleted = delete('Book', book_id)\n",
    "    pretty_print(deleted)"
   ]
  },
  {
   "cell_type": "markdown",
   "metadata": {},
   "source": [
    "## Advanced Queries\n",
    "\n",
    "Let's test the dynamic query builder functionality."
   ]
  },
  {
   "cell_type": "code",
   "execution_count": null,
   "metadata": {},
   "outputs": [],
   "source": [
    "def execute_query(query, format='tuples'):\n",
    "    response = requests.post(f\"{BASE_URL}/query\", headers=headers, json={\n",
    "        'query': query,\n",
    "        'format': format\n",
    "    })\n",
    "    return response.json()\n",
    "\n",
    "# Query to get books with authors\n",
    "books_query = {\n",
    "    \"from\": \"Book\",\n",
    "    \"select\": [\n",
    "        \"Book.id\",\n",
    "        \"Book.title\",\n",
    "        \"Book.isbn\",\n",
    "        \"Author.first_name\",\n",
    "        \"Author.last_name\"\n",
    "    ],\n",
    "    \"joins\": [\n",
    "        {\"BookAuthor\": \"BookAuthor.book_id = Book.id\"},\n",
    "        {\"Author\": \"Author.id = BookAuthor.author_id\"}\n",
    "    ],\n",
    "    \"order_by\": [\"Book.title\"],\n",
    "    \"limit\": 10\n",
    "}\n",
    "\n",
    "books_result = execute_query(books_query, format='records')\n",
    "pretty_print(books_result)"
   ]
  },
  {
   "cell_type": "markdown",
   "metadata": {},
   "source": [
    "### Convert Query Results to DataFrame"
   ]
  },
  {
   "cell_type": "code",
   "execution_count": null,
   "metadata": {},
   "outputs": [],
   "source": [
    "# If we got data, convert to DataFrame for analysis\n",
    "if 'data' in books_result and 'data' in books_result['data']:\n",
    "    records = books_result['data']['data']\n",
    "    df = pd.DataFrame(records)\n",
    "    display(df)"
   ]
  },
  {
   "cell_type": "markdown",
   "metadata": {},
   "source": [
    "## Using Generic Endpoint\n",
    "\n",
    "Let's test the generic endpoint functionality to call any Coframe operation."
   ]
  },
  {
   "cell_type": "code",
   "execution_count": null,
   "metadata": {},
   "outputs": [],
   "source": [
    "def call_endpoint(operation, params=None):\n",
    "    response = requests.post(f\"{BASE_URL}/endpoint/{operation}\", headers=headers, json=params or {})\n",
    "    return response.json()\n",
    "\n",
    "books = call_endpoint('books', {})\n",
    "pretty_print(books)"
   ]
  },
  {
   "cell_type": "markdown",
   "metadata": {},
   "source": [
    "## Red file from filesystem\n",
    "\n",
    "Read some file from filesystem, only files in whitelisted directories are allowed"
   ]
  },
  {
   "cell_type": "code",
   "execution_count": null,
   "metadata": {},
   "outputs": [],
   "source": [
    "def read_file(params=None):\n",
    "    response = requests.post(f\"{BASE_URL}/read_file\", headers=headers, json=params or {})\n",
    "    return response.json()\n",
    "\n",
    "file = {\n",
    "    \"file_path\": \"data/book_list.yaml\"\n",
    "}\n",
    "result = read_file(file)\n",
    "pretty_print(result)\n",
    "\n",
    "file = {\n",
    "    \"base_dir\": \"images\",\n",
    "    \"file_path\": \"python_logo.png\",\n",
    "    \"binary_encoding\": \"base64\"\n",
    "}\n",
    "result = read_file(file)\n",
    "pretty_print(result)\n",
    "\n",
    "file = {\n",
    "    \"base_dir\": \"~/\",\n",
    "    \"file_path\": \".bashrc\"\n",
    "}\n",
    "result = read_file(file)\n",
    "pretty_print(result)\n",
    "\n"
   ]
  },
  {
   "cell_type": "markdown",
   "metadata": {},
   "source": [
    "## User Profile Access\n",
    "\n",
    "Let's test accessing the current user's profile."
   ]
  },
  {
   "cell_type": "code",
   "execution_count": null,
   "metadata": {},
   "outputs": [],
   "source": [
    "def get_profile():\n",
    "    response = requests.get(f\"{BASE_URL}/profile\", headers=headers)\n",
    "    return response.json()\n",
    "\n",
    "my_profile = get_profile()\n",
    "pretty_print(my_profile)"
   ]
  },
  {
   "cell_type": "markdown",
   "metadata": {},
   "source": [
    "## Error Handling Test\n",
    "\n",
    "Let's test how the API handles errors."
   ]
  },
  {
   "cell_type": "code",
   "execution_count": null,
   "metadata": {},
   "outputs": [],
   "source": [
    "# Try to get a non-existent item\n",
    "non_existent = get_one('Book', 999999)\n",
    "pretty_print(non_existent)"
   ]
  },
  {
   "cell_type": "code",
   "execution_count": null,
   "metadata": {},
   "outputs": [],
   "source": [
    "# Try to use an invalid token\n",
    "invalid_headers = {\n",
    "    'Authorization': 'Bearer invalid_token',\n",
    "    'Content-Type': 'application/json'\n",
    "}\n",
    "\n",
    "response = requests.get(f\"{BASE_URL}/profile\", headers=invalid_headers)\n",
    "pretty_print(response.json())"
   ]
  },
  {
   "cell_type": "markdown",
   "metadata": {},
   "source": [
    "## Batch Operations\n",
    "\n",
    "Let's test how to perform batch operations."
   ]
  },
  {
   "cell_type": "code",
   "execution_count": null,
   "metadata": {},
   "outputs": [],
   "source": [
    "# Create multiple books in sequence\n",
    "new_books = [\n",
    "    {\n",
    "        'title': 'Machine Learning Basics',\n",
    "        'isbn': '9781234567891',\n",
    "        'publication_date': '2025-01-15',\n",
    "        'price': 39.99,\n",
    "        'status': 'A'\n",
    "    },\n",
    "    {\n",
    "        'title': 'Advanced Database Systems',\n",
    "        'isbn': '9781234567892',\n",
    "        'publication_date': '2025-02-20',\n",
    "        'price': 45.99,\n",
    "        'status': 'A'\n",
    "    },\n",
    "    {\n",
    "        'title': 'Web Development with Flask',\n",
    "        'isbn': '9781234567893',\n",
    "        'publication_date': '2025-03-10',\n",
    "        'price': 32.99,\n",
    "        'status': 'A'\n",
    "    }\n",
    "]\n",
    "\n",
    "created_books = []\n",
    "for book in new_books:\n",
    "    result = create('Book', book)\n",
    "    if result.get('status') == 'success':\n",
    "        created_books.append(result.get('data'))\n",
    "\n",
    "print(f\"Created {len(created_books)} books\")\n",
    "pretty_print(created_books)"
   ]
  },
  {
   "cell_type": "markdown",
   "metadata": {},
   "source": [
    "## Filtering Records\n",
    "\n",
    "Let's test filtering records using query parameters."
   ]
  },
  {
   "cell_type": "code",
   "execution_count": null,
   "metadata": {},
   "outputs": [],
   "source": [
    "# Get books with complex filtering using the query endpoint\n",
    "filter_query = {\n",
    "    \"from\": \"Book\",\n",
    "    \"select\": [\"id\", \"title\", \"price\", \"status\"],\n",
    "    \"filters\": {\n",
    "        \"conditions\": [\n",
    "            {\"price\": [\">=\", 35.0]},\n",
    "            {\"status\": \"A\"}\n",
    "        ]\n",
    "    },\n",
    "    \"order_by\": [[\"price\", \"desc\"]],\n",
    "    \"limit\": 10\n",
    "}\n",
    "\n",
    "filtered_books = execute_query(filter_query)\n",
    "pretty_print(filtered_books)"
   ]
  },
  {
   "cell_type": "markdown",
   "metadata": {},
   "source": [
    "## Performing Aggregations\n",
    "\n",
    "Let's test performing aggregations with the query endpoint."
   ]
  },
  {
   "cell_type": "code",
   "execution_count": null,
   "metadata": {},
   "outputs": [],
   "source": [
    "# Aggregate query to get book statistics\n",
    "agg_query = {\n",
    "    \"from\": \"Book\",\n",
    "    \"select\": [\n",
    "        \"count(id) as book_count\",\n",
    "        \"avg(price) as avg_price\",\n",
    "        \"min(price) as min_price\",\n",
    "        \"max(price) as max_price\",\n",
    "        \"sum(price) as total_price\"\n",
    "    ]\n",
    "}\n",
    "\n",
    "book_stats = execute_query(agg_query)\n",
    "pretty_print(book_stats)"
   ]
  },
  {
   "cell_type": "markdown",
   "metadata": {},
   "source": [
    "## Working with Relationships\n",
    "\n",
    "Let's test working with relationships in the database."
   ]
  },
  {
   "cell_type": "code",
   "execution_count": null,
   "metadata": {},
   "outputs": [],
   "source": [
    "# Add an author\n",
    "new_author = {\n",
    "    'first_name': 'Jane',\n",
    "    'last_name': 'Doe',\n",
    "    'nationality': 'American',\n",
    "    'birth_date': '1980-10-06',\n",
    "}\n",
    "\n",
    "author_result = create('Author', new_author)\n",
    "pretty_print(author_result)\n",
    "\n",
    "# If author creation was successful, create a book-author relationship\n",
    "if 'data' in author_result and 'id' in author_result['data']:\n",
    "    author_id = author_result['data']['id']\n",
    "\n",
    "    # Get the first book we created\n",
    "    if created_books and 'id' in created_books[0]:\n",
    "        book_id = created_books[0]['id']\n",
    "\n",
    "        # Create relationship\n",
    "        book_author = {\n",
    "            'book_id': book_id,\n",
    "            'author_id': author_id,\n",
    "            'notes': 'Created via API test'\n",
    "        }\n",
    "\n",
    "        relation_result = create('BookAuthor', book_author)\n",
    "        pretty_print(relation_result)"
   ]
  },
  {
   "cell_type": "markdown",
   "metadata": {},
   "source": [
    "## Cleanup\n",
    "\n",
    "Let's clean up the data we created during testing."
   ]
  },
  {
   "cell_type": "code",
   "execution_count": null,
   "metadata": {},
   "outputs": [],
   "source": [
    "# Delete all the books we created\n",
    "for book in created_books:\n",
    "    if 'id' in book:\n",
    "        result = delete('Book', book['id'])\n",
    "        print(f\"Deleted book {book['id']}: {result['status']}\")\n",
    "\n",
    "# Delete the author we created\n",
    "if 'data' in author_result and 'id' in author_result['data']:\n",
    "    result = delete('Author', author_result['data']['id'])\n",
    "    print(f\"Deleted author {author_result['data']['id']}: {result['status']}\")"
   ]
  }
 ],
 "metadata": {
  "kernelspec": {
   "display_name": ".venv",
   "language": "python",
   "name": "python3"
  },
  "language_info": {
   "codemirror_mode": {
    "name": "ipython",
    "version": 3
   },
   "file_extension": ".py",
   "mimetype": "text/x-python",
   "name": "python",
   "nbconvert_exporter": "python",
   "pygments_lexer": "ipython3",
   "version": "3.12.6"
  }
 },
 "nbformat": 4,
 "nbformat_minor": 4
}
